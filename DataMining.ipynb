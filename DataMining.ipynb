{
 "cells": [
  {
   "cell_type": "code",
   "execution_count": 2,
   "metadata": {},
   "outputs": [],
   "source": [
    "import requests\n",
    "import urllib3\n",
    "from bs4 import BeautifulSoup as BS\n",
    "import pandas as pd\n",
    "import time\n",
    "import os.path\n",
    "%matplotlib inline"
   ]
  },
  {
   "cell_type": "code",
   "execution_count": 3,
   "metadata": {},
   "outputs": [],
   "source": [
    "company_listing = \"http://www.nepalstock.com.np/company?_limit=500\""
   ]
  },
  {
   "cell_type": "code",
   "execution_count": 3,
   "metadata": {},
   "outputs": [
    {
     "name": "stdout",
     "output_type": "stream",
     "text": [
      "There are 210 Companies\n"
     ]
    },
    {
     "data": {
      "text/html": [
       "<div>\n",
       "<style scoped>\n",
       "    .dataframe tbody tr th:only-of-type {\n",
       "        vertical-align: middle;\n",
       "    }\n",
       "\n",
       "    .dataframe tbody tr th {\n",
       "        vertical-align: top;\n",
       "    }\n",
       "\n",
       "    .dataframe thead th {\n",
       "        text-align: right;\n",
       "    }\n",
       "</style>\n",
       "<table border=\"1\" class=\"dataframe\">\n",
       "  <thead>\n",
       "    <tr style=\"text-align: right;\">\n",
       "      <th></th>\n",
       "      <th>Stock Name</th>\n",
       "      <th>Stock Symbol</th>\n",
       "      <th>Sector</th>\n",
       "      <th>Symbol No</th>\n",
       "    </tr>\n",
       "    <tr>\n",
       "      <th>SN</th>\n",
       "      <th></th>\n",
       "      <th></th>\n",
       "      <th></th>\n",
       "      <th></th>\n",
       "    </tr>\n",
       "  </thead>\n",
       "  <tbody>\n",
       "    <tr>\n",
       "      <th>0</th>\n",
       "      <td>Agriculture Development Bank Limited</td>\n",
       "      <td>ADBL</td>\n",
       "      <td>Commercial Banks</td>\n",
       "      <td>397</td>\n",
       "    </tr>\n",
       "    <tr>\n",
       "      <th>1</th>\n",
       "      <td>Api Power Company Ltd.</td>\n",
       "      <td>API</td>\n",
       "      <td>Hydro Power</td>\n",
       "      <td>697</td>\n",
       "    </tr>\n",
       "    <tr>\n",
       "      <th>2</th>\n",
       "      <td>Arambha Microfinance Bittiya Sanstha Ltd.</td>\n",
       "      <td>AMFI</td>\n",
       "      <td>Microfinance</td>\n",
       "      <td>2777</td>\n",
       "    </tr>\n",
       "    <tr>\n",
       "      <th>3</th>\n",
       "      <td>Arun Kabeli Power Ltd.</td>\n",
       "      <td>AKPL</td>\n",
       "      <td>Hydro Power</td>\n",
       "      <td>2757</td>\n",
       "    </tr>\n",
       "    <tr>\n",
       "      <th>4</th>\n",
       "      <td>Arun Valley Hydropower Development Co. Ltd.</td>\n",
       "      <td>AHPC</td>\n",
       "      <td>Hydro Power</td>\n",
       "      <td>360</td>\n",
       "    </tr>\n",
       "  </tbody>\n",
       "</table>\n",
       "</div>"
      ],
      "text/plain": [
       "                                     Stock Name Stock Symbol  \\\n",
       "SN                                                             \n",
       "0          Agriculture Development Bank Limited         ADBL   \n",
       "1                        Api Power Company Ltd.          API   \n",
       "2     Arambha Microfinance Bittiya Sanstha Ltd.         AMFI   \n",
       "3                        Arun Kabeli Power Ltd.         AKPL   \n",
       "4   Arun Valley Hydropower Development Co. Ltd.         AHPC   \n",
       "\n",
       "              Sector Symbol No  \n",
       "SN                              \n",
       "0   Commercial Banks       397  \n",
       "1        Hydro Power       697  \n",
       "2       Microfinance      2777  \n",
       "3        Hydro Power      2757  \n",
       "4        Hydro Power       360  "
      ]
     },
     "execution_count": 3,
     "metadata": {},
     "output_type": "execute_result"
    }
   ],
   "source": [
    "http = urllib3.PoolManager()\n",
    "http.addheaders = [('User-agent', 'Mozilla/61.0')]\n",
    "web_page = http.request('GET',company_listing)\n",
    "soup = BS(web_page.data, 'html5lib')\n",
    "table = soup.find('table')\n",
    "company=[]\n",
    "rows = [row.findAll('td') for row in table.findAll('tr')[1:-2]]\n",
    "col = 0\n",
    "notfirstrun = False\n",
    "for row in rows:\n",
    "    companydata =[]\n",
    "    for data in row:\n",
    "        if col == 5 and notfirstrun:\n",
    "            companydata.append(data.a.get('href').split('/')[-1])\n",
    "        else:\n",
    "            companydata.append(data.text.strip())\n",
    "        col += 1\n",
    "    company.append(companydata)\n",
    "    col =0\n",
    "    notfirstrun = True\n",
    "\n",
    "df = pd.DataFrame(company[1:],columns=company[0])\n",
    "df.rename(columns={'Operations':'Symbol No'},inplace=True)\n",
    "df.index.name = \"SN\"\n",
    "df.drop(columns='',inplace=True)\n",
    "df.drop(columns='S.N.',inplace=True)\n",
    "df.to_json('CompanyList.json',orient='index')\n",
    "print('There are %s Companies'%len(df.index))\n",
    "df.head()"
   ]
  },
  {
   "cell_type": "code",
   "execution_count": 4,
   "metadata": {},
   "outputs": [
    {
     "name": "stdout",
     "output_type": "stream",
     "text": [
      "Company:  NMB Bank Limited\n",
      "Address :  Babarmahal\n",
      "Email Address :  pramod.dahal@nmb.com.np\n",
      "Website :  http://www.nmb.com.np\n",
      "Last Traded Price (Rs.) :  312.00\n",
      "Change (Rs.) and (%) :  4(1.30)\n",
      "Total Listed Shares :  87,437,842.00\n",
      "Paid Up Value (Rs.) :  100\n",
      "Total Paid Up Value (Rs.) :  8,743,784,200.00\n",
      "Closing Market Price (Rs.) :  312.00\n",
      "Market Capitalization (Rs.) :  27,280,606,704.00\n"
     ]
    }
   ],
   "source": [
    "# Getting Company Details\n",
    "symbol = \"NMB\"\n",
    "url = \"http://www.nepalstock.com/company/\"\n",
    "try:\n",
    "    req = requests.post(url, data={\"stock_symbol\":symbol}, verify=False)\n",
    "except requests.exceptions.RequestException as e:\n",
    "    print(e)\n",
    "response = req.text\n",
    "soup = BS(response, \"lxml\")\n",
    "table = soup.find(\"table\")\n",
    "print (\"Company: \",table.findAll(\"td\")[0].string)\n",
    "for row in table.findAll(\"tr\")[4:]:\n",
    "    col = row.findAll(\"td\")\n",
    "    print (col[0].string,\": \",col[1].string)"
   ]
  },
  {
   "cell_type": "markdown",
   "metadata": {},
   "source": [
    "# Daily FloorSheet Data"
   ]
  },
  {
   "cell_type": "code",
   "execution_count": 5,
   "metadata": {
    "scrolled": true
   },
   "outputs": [
    {
     "data": {
      "text/html": [
       "<div>\n",
       "<style scoped>\n",
       "    .dataframe tbody tr th:only-of-type {\n",
       "        vertical-align: middle;\n",
       "    }\n",
       "\n",
       "    .dataframe tbody tr th {\n",
       "        vertical-align: top;\n",
       "    }\n",
       "\n",
       "    .dataframe thead th {\n",
       "        text-align: right;\n",
       "    }\n",
       "</style>\n",
       "<table border=\"1\" class=\"dataframe\">\n",
       "  <thead>\n",
       "    <tr style=\"text-align: right;\">\n",
       "      <th></th>\n",
       "      <th>S.N.</th>\n",
       "      <th>Contract No</th>\n",
       "      <th>Stock Symbol</th>\n",
       "      <th>Buyer Broker</th>\n",
       "      <th>Seller Broker</th>\n",
       "      <th>Quantity</th>\n",
       "      <th>Rate</th>\n",
       "      <th>Amount</th>\n",
       "    </tr>\n",
       "  </thead>\n",
       "  <tbody>\n",
       "    <tr>\n",
       "      <th>0</th>\n",
       "      <td>1</td>\n",
       "      <td>201808286420508</td>\n",
       "      <td>BOKL</td>\n",
       "      <td>28</td>\n",
       "      <td>55</td>\n",
       "      <td>50</td>\n",
       "      <td>288</td>\n",
       "      <td>14400.00</td>\n",
       "    </tr>\n",
       "    <tr>\n",
       "      <th>1</th>\n",
       "      <td>2</td>\n",
       "      <td>201808286420509</td>\n",
       "      <td>BOKL</td>\n",
       "      <td>28</td>\n",
       "      <td>6</td>\n",
       "      <td>50</td>\n",
       "      <td>289</td>\n",
       "      <td>14450.00</td>\n",
       "    </tr>\n",
       "    <tr>\n",
       "      <th>2</th>\n",
       "      <td>3</td>\n",
       "      <td>201808286420510</td>\n",
       "      <td>SIL</td>\n",
       "      <td>43</td>\n",
       "      <td>25</td>\n",
       "      <td>10</td>\n",
       "      <td>649</td>\n",
       "      <td>6490.00</td>\n",
       "    </tr>\n",
       "    <tr>\n",
       "      <th>3</th>\n",
       "      <td>4</td>\n",
       "      <td>201808286420511</td>\n",
       "      <td>LGIL</td>\n",
       "      <td>16</td>\n",
       "      <td>6</td>\n",
       "      <td>10</td>\n",
       "      <td>514</td>\n",
       "      <td>5140.00</td>\n",
       "    </tr>\n",
       "    <tr>\n",
       "      <th>4</th>\n",
       "      <td>5</td>\n",
       "      <td>201808286420512</td>\n",
       "      <td>EBL</td>\n",
       "      <td>21</td>\n",
       "      <td>50</td>\n",
       "      <td>31</td>\n",
       "      <td>660</td>\n",
       "      <td>20460.00</td>\n",
       "    </tr>\n",
       "  </tbody>\n",
       "</table>\n",
       "</div>"
      ],
      "text/plain": [
       "  S.N.      Contract No Stock Symbol Buyer Broker Seller Broker Quantity Rate  \\\n",
       "0    1  201808286420508         BOKL           28            55       50  288   \n",
       "1    2  201808286420509         BOKL           28             6       50  289   \n",
       "2    3  201808286420510          SIL           43            25       10  649   \n",
       "3    4  201808286420511         LGIL           16             6       10  514   \n",
       "4    5  201808286420512          EBL           21            50       31  660   \n",
       "\n",
       "     Amount  \n",
       "0  14400.00  \n",
       "1  14450.00  \n",
       "2   6490.00  \n",
       "3   5140.00  \n",
       "4  20460.00  "
      ]
     },
     "execution_count": 5,
     "metadata": {},
     "output_type": "execute_result"
    }
   ],
   "source": [
    "DailyFloorSheet=\"http://www.nepalstock.com.np/main/floorsheet/index/0/?_limit=5000\"\n",
    "\n",
    "http = urllib3.PoolManager()\n",
    "http.addheaders = [('User-agent', 'Mozilla/61.0')]\n",
    "web_page = http.request('GET',DailyFloorSheet)\n",
    "soup = BS(web_page.data, 'html5lib')\n",
    "table = soup.find('table')\n",
    "FloorSheet=[]\n",
    "rows = [row.findAll('td') for row in table.findAll('tr')[1:-2]]\n",
    "for row in rows:\n",
    "    FloorSheet.append([data.text.strip() for data in row])\n",
    "FloorSheetdf = pd.DataFrame(FloorSheet[1:-1],columns=FloorSheet[0])\n",
    "FloorSheetdf.head()"
   ]
  },
  {
   "cell_type": "code",
   "execution_count": 6,
   "metadata": {},
   "outputs": [
    {
     "data": {
      "text/plain": [
       "SN\n",
       "0      2018-08-28\n",
       "1      2018-08-28\n",
       "2      2018-08-28\n",
       "3      2018-08-28\n",
       "4      2018-08-28\n",
       "5      2018-08-28\n",
       "6      2018-08-28\n",
       "7      2018-08-28\n",
       "8      2018-08-28\n",
       "9      2018-08-28\n",
       "10     2018-08-28\n",
       "11     2018-08-28\n",
       "12     2018-08-28\n",
       "13     2018-08-28\n",
       "14     2018-08-28\n",
       "15     2018-08-28\n",
       "16     2018-08-28\n",
       "17     2018-08-28\n",
       "18     2018-08-28\n",
       "19     2018-08-28\n",
       "20     2018-08-28\n",
       "21     2018-08-28\n",
       "22     2018-08-28\n",
       "23     2018-08-28\n",
       "24     2018-08-28\n",
       "25     2018-08-28\n",
       "26     2018-08-28\n",
       "27     2018-08-28\n",
       "28     2018-08-28\n",
       "29     2018-08-28\n",
       "          ...    \n",
       "180    2018-08-28\n",
       "181    2018-08-28\n",
       "182    2018-08-28\n",
       "183    2018-08-28\n",
       "184    2018-08-28\n",
       "185    2018-08-28\n",
       "186    2018-08-28\n",
       "187    2018-08-28\n",
       "188    2018-08-28\n",
       "189    2018-08-28\n",
       "190    2018-08-28\n",
       "191    2018-08-28\n",
       "192    2018-08-28\n",
       "193    2018-08-28\n",
       "194    2018-08-28\n",
       "195    2018-08-28\n",
       "196    2018-08-28\n",
       "197    2018-08-28\n",
       "198    2018-08-28\n",
       "199    2018-08-28\n",
       "200    2018-08-28\n",
       "201    2018-08-28\n",
       "202    2018-08-28\n",
       "203    2018-08-28\n",
       "204    2018-08-28\n",
       "205    2018-08-28\n",
       "206    2018-08-28\n",
       "207    2018-08-28\n",
       "208    2018-08-28\n",
       "209    2018-08-28\n",
       "Name: date, Length: 210, dtype: object"
      ]
     },
     "execution_count": 6,
     "metadata": {},
     "output_type": "execute_result"
    }
   ],
   "source": [
    "df['date'] = pd.to_datetime(FloorSheetdf['Contract No'],format='%Y%m%d%H%M%f').dt.date\n",
    "df['date']"
   ]
  },
  {
   "cell_type": "markdown",
   "metadata": {},
   "source": [
    "# CompanyStocks Transactions"
   ]
  },
  {
   "cell_type": "code",
   "execution_count": 7,
   "metadata": {},
   "outputs": [],
   "source": [
    "def CompanyStocksTransactions(SymbolNo,startDate):\n",
    "    url=\"http://www.nepalstock.com.np/company/transactions/%s/0/?startDate=%s&endDate=&_limit=9000000\"%(SymbolNo,startDate)\n",
    "    print(\"Connecting to %s \"%url)\n",
    "    http = urllib3.PoolManager()\n",
    "    http.addheaders = [('User-agent', 'Mozilla/61.0')]\n",
    "    web_page = http.request('GET',url)\n",
    "    print(\"Adding to DataFrame\")\n",
    "    soup = BS(web_page.data, 'html5lib')\n",
    "    table = soup.find('table')\n",
    "    FloorSheet=[]\n",
    "    rows = [row.findAll('td') for row in table.findAll('tr')[1:-2]]\n",
    "    for row in rows:\n",
    "        FloorSheet.append([data.text.strip() for data in row])\n",
    "    FloorSheetdf = pd.DataFrame(FloorSheet[1:],columns=FloorSheet[0])\n",
    "    FloorSheetdf['Date']=pd.to_datetime(dfNepse['Contract No'], format='%Y%m%d%H%M%f', errors='ignore')\n",
    "    return FloorSheetdf"
   ]
  },
  {
   "cell_type": "code",
   "execution_count": 8,
   "metadata": {},
   "outputs": [
    {
     "name": "stdout",
     "output_type": "stream",
     "text": [
      "Stock No: 397\n",
      "Time: Tue Aug 28 18:15:38 2018\n",
      "Connecting to http://www.nepalstock.com.np/company/transactions/397/0/?startDate=2001-1-1&endDate=&_limit=9000000 \n",
      "Adding to DataFrame\n"
     ]
    },
    {
     "ename": "NameError",
     "evalue": "name 'dfNepse' is not defined",
     "output_type": "error",
     "traceback": [
      "\u001b[0;31m---------------------------------------------------------------------------\u001b[0m",
      "\u001b[0;31mNameError\u001b[0m                                 Traceback (most recent call last)",
      "\u001b[0;32m<ipython-input-8-6230d914ae25>\u001b[0m in \u001b[0;36m<module>\u001b[0;34m()\u001b[0m\n\u001b[1;32m      9\u001b[0m         \u001b[0mprint\u001b[0m\u001b[0;34m(\u001b[0m\u001b[0;34m\"Stock No: %s Data Already Downloaded\"\u001b[0m\u001b[0;34m%\u001b[0m\u001b[0msymbol\u001b[0m\u001b[0;34m)\u001b[0m\u001b[0;34m\u001b[0m\u001b[0m\n\u001b[1;32m     10\u001b[0m     \u001b[0;32melse\u001b[0m\u001b[0;34m:\u001b[0m\u001b[0;34m\u001b[0m\u001b[0m\n\u001b[0;32m---> 11\u001b[0;31m         \u001b[0mdftest\u001b[0m\u001b[0;34m=\u001b[0m\u001b[0mCompanyStocksTransactions\u001b[0m\u001b[0;34m(\u001b[0m\u001b[0msymbol\u001b[0m\u001b[0;34m,\u001b[0m\u001b[0mstartDate\u001b[0m\u001b[0;34m)\u001b[0m\u001b[0;34m\u001b[0m\u001b[0m\n\u001b[0m\u001b[1;32m     12\u001b[0m         \u001b[0mdftest\u001b[0m\u001b[0;34m.\u001b[0m\u001b[0mto_csv\u001b[0m\u001b[0;34m(\u001b[0m\u001b[0mfilename\u001b[0m\u001b[0;34m)\u001b[0m\u001b[0;34m\u001b[0m\u001b[0m\n\u001b[1;32m     13\u001b[0m     \u001b[0mprint\u001b[0m\u001b[0;34m(\u001b[0m\u001b[0;34m\"%s of %s completed \\n\"\u001b[0m\u001b[0;34m%\u001b[0m\u001b[0;34m(\u001b[0m\u001b[0mcount\u001b[0m\u001b[0;34m,\u001b[0m\u001b[0mlen\u001b[0m\u001b[0;34m(\u001b[0m\u001b[0mdf\u001b[0m\u001b[0;34m[\u001b[0m\u001b[0;34m'Symbol No'\u001b[0m\u001b[0;34m]\u001b[0m\u001b[0;34m)\u001b[0m\u001b[0;34m)\u001b[0m\u001b[0;34m)\u001b[0m\u001b[0;34m\u001b[0m\u001b[0m\n",
      "\u001b[0;32m<ipython-input-7-e91ba149be45>\u001b[0m in \u001b[0;36mCompanyStocksTransactions\u001b[0;34m(SymbolNo, startDate)\u001b[0m\n\u001b[1;32m     13\u001b[0m         \u001b[0mFloorSheet\u001b[0m\u001b[0;34m.\u001b[0m\u001b[0mappend\u001b[0m\u001b[0;34m(\u001b[0m\u001b[0;34m[\u001b[0m\u001b[0mdata\u001b[0m\u001b[0;34m.\u001b[0m\u001b[0mtext\u001b[0m\u001b[0;34m.\u001b[0m\u001b[0mstrip\u001b[0m\u001b[0;34m(\u001b[0m\u001b[0;34m)\u001b[0m \u001b[0;32mfor\u001b[0m \u001b[0mdata\u001b[0m \u001b[0;32min\u001b[0m \u001b[0mrow\u001b[0m\u001b[0;34m]\u001b[0m\u001b[0;34m)\u001b[0m\u001b[0;34m\u001b[0m\u001b[0m\n\u001b[1;32m     14\u001b[0m     \u001b[0mFloorSheetdf\u001b[0m \u001b[0;34m=\u001b[0m \u001b[0mpd\u001b[0m\u001b[0;34m.\u001b[0m\u001b[0mDataFrame\u001b[0m\u001b[0;34m(\u001b[0m\u001b[0mFloorSheet\u001b[0m\u001b[0;34m[\u001b[0m\u001b[0;36m1\u001b[0m\u001b[0;34m:\u001b[0m\u001b[0;34m]\u001b[0m\u001b[0;34m,\u001b[0m\u001b[0mcolumns\u001b[0m\u001b[0;34m=\u001b[0m\u001b[0mFloorSheet\u001b[0m\u001b[0;34m[\u001b[0m\u001b[0;36m0\u001b[0m\u001b[0;34m]\u001b[0m\u001b[0;34m)\u001b[0m\u001b[0;34m\u001b[0m\u001b[0m\n\u001b[0;32m---> 15\u001b[0;31m     \u001b[0mFloorSheetdf\u001b[0m\u001b[0;34m[\u001b[0m\u001b[0;34m'Date'\u001b[0m\u001b[0;34m]\u001b[0m\u001b[0;34m=\u001b[0m\u001b[0mpd\u001b[0m\u001b[0;34m.\u001b[0m\u001b[0mto_datetime\u001b[0m\u001b[0;34m(\u001b[0m\u001b[0mdfNepse\u001b[0m\u001b[0;34m[\u001b[0m\u001b[0;34m'Contract No'\u001b[0m\u001b[0;34m]\u001b[0m\u001b[0;34m,\u001b[0m \u001b[0mformat\u001b[0m\u001b[0;34m=\u001b[0m\u001b[0;34m'%Y%m%d%H%M%f'\u001b[0m\u001b[0;34m,\u001b[0m \u001b[0merrors\u001b[0m\u001b[0;34m=\u001b[0m\u001b[0;34m'ignore'\u001b[0m\u001b[0;34m)\u001b[0m\u001b[0;34m\u001b[0m\u001b[0m\n\u001b[0m\u001b[1;32m     16\u001b[0m     \u001b[0;32mreturn\u001b[0m \u001b[0mFloorSheetdf\u001b[0m\u001b[0;34m\u001b[0m\u001b[0m\n",
      "\u001b[0;31mNameError\u001b[0m: name 'dfNepse' is not defined"
     ]
    }
   ],
   "source": [
    "\n",
    "startDate= '2001-1-1'\n",
    "count = 0\n",
    "for symbol in list(df['Symbol No']):\n",
    "    print(\"Stock No: %s\\nTime: %s\"%(symbol,time.ctime()))\n",
    "    filename = \"./data/NEPSE%s.csv\"%symbol\n",
    "    count +=1\n",
    "    if os.path.isfile(filename):\n",
    "        print(\"Stock No: %s Data Already Downloaded\"%symbol)\n",
    "    else:\n",
    "        dftest=CompanyStocksTransactions(symbol,startDate)\n",
    "        dftest.to_csv(filename)\n",
    "    print(\"%s of %s completed \\n\"%(count,len(df['Symbol No'])))"
   ]
  },
  {
   "cell_type": "code",
   "execution_count": null,
   "metadata": {},
   "outputs": [],
   "source": [
    "# plot\n",
    "# Need to convert Contract Number to Date-time\n",
    "Stock = 'EBL'\n",
    "symbol = \"%d\"%df[df['Stock Symbol']==Stock]['Symbol No']\n",
    "print(symbol)\n",
    "dfNepse=pd.read_csv(\"./data/NEPSE%s.csv\"%symbol)\n",
    "dfNepse.sort_values('Contract No',inplace = True)\n",
    "startfrom=200101016341249\n",
    "dfNepse=dfNepse[dfNepse['Contract No']>startfrom]\n",
    "dfNepse.plot(x='Contract No', y = 'Rate')"
   ]
  },
  {
   "cell_type": "code",
   "execution_count": null,
   "metadata": {},
   "outputs": [],
   "source": [
    "dfNepse.describe()"
   ]
  },
  {
   "cell_type": "code",
   "execution_count": 13,
   "metadata": {},
   "outputs": [],
   "source": [
    "symbol = \"NMB\"\n",
    "url = \"http://nepalstock.com/marketdepth/\"\n",
    "try:\n",
    "    req = requests.post(url, data={\"stock_symbol\":symbol}, verify=False)\n",
    "except requests.exceptions.RequestException as e:\n",
    "    print(e)\n",
    "response = req.text\n",
    "soup = BS(response, \"lxml\")\n",
    "tables = soup.findAll(\"table\")\n",
    "for table in tables:\n",
    "    for row in table.findAll(\"tr\")[4:]:\n",
    "        col = row.findAll(\"td\")\n",
    "        print (col[0].string,\": \",col[1].string)"
   ]
  },
  {
   "cell_type": "code",
   "execution_count": 1,
   "metadata": {},
   "outputs": [
    {
     "ename": "NameError",
     "evalue": "name 'soup' is not defined",
     "output_type": "error",
     "traceback": [
      "\u001b[0;31m---------------------------------------------------------------------------\u001b[0m",
      "\u001b[0;31mNameError\u001b[0m                                 Traceback (most recent call last)",
      "\u001b[0;32m<ipython-input-1-d804cebb9c18>\u001b[0m in \u001b[0;36m<module>\u001b[0;34m()\u001b[0m\n\u001b[0;32m----> 1\u001b[0;31m \u001b[0msoup\u001b[0m\u001b[0;34m.\u001b[0m\u001b[0mfindAll\u001b[0m\u001b[0;34m(\u001b[0m\u001b[0;34m\"table\"\u001b[0m\u001b[0;34m)\u001b[0m\u001b[0;34m\u001b[0m\u001b[0m\n\u001b[0m",
      "\u001b[0;31mNameError\u001b[0m: name 'soup' is not defined"
     ]
    }
   ],
   "source": [
    "soup.findAll(\"table\")"
   ]
  },
  {
   "cell_type": "code",
   "execution_count": null,
   "metadata": {},
   "outputs": [],
   "source": []
  }
 ],
 "metadata": {
  "kernelspec": {
   "display_name": "Python 3",
   "language": "python",
   "name": "python3"
  },
  "language_info": {
   "codemirror_mode": {
    "name": "ipython",
    "version": 3
   },
   "file_extension": ".py",
   "mimetype": "text/x-python",
   "name": "python",
   "nbconvert_exporter": "python",
   "pygments_lexer": "ipython3",
   "version": "3.6.5"
  }
 },
 "nbformat": 4,
 "nbformat_minor": 2
}
